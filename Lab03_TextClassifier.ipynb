{
  "nbformat": 4,
  "nbformat_minor": 0,
  "metadata": {
    "colab": {
      "name": "Lab03_TextClassifier.ipynb",
      "provenance": [],
      "collapsed_sections": [],
      "include_colab_link": true
    },
    "kernelspec": {
      "name": "python3",
      "display_name": "Python 3"
    }
  },
  "cells": [
    {
      "cell_type": "markdown",
      "metadata": {
        "id": "view-in-github",
        "colab_type": "text"
      },
      "source": [
        "<a href=\"https://colab.research.google.com/github/InesAlarcon/SeminarioProfesional/blob/master/Lab03_TextClassifier.ipynb\" target=\"_parent\"><img src=\"https://colab.research.google.com/assets/colab-badge.svg\" alt=\"Open In Colab\"/></a>"
      ]
    },
    {
      "cell_type": "code",
      "metadata": {
        "id": "LJNDclFkH5_1",
        "colab_type": "code",
        "colab": {
          "base_uri": "https://localhost:8080/",
          "height": 34
        },
        "outputId": "060e30d6-1251-44c0-e5cd-7b376ffde124"
      },
      "source": [
        "from __future__ import absolute_import, division, print_function, unicode_literals\n",
        "\n",
        "import tensorflow as tf\n",
        "tf.enable_eager_execution()\n",
        "\n",
        "from tensorflow import keras\n",
        "\n",
        "!pip install -q tensorflow-datasets\n",
        "import tensorflow_datasets as tfds\n",
        "tfds.disable_progress_bar()\n",
        "\n",
        "import numpy as np\n",
        "\n",
        "print(tf.__version__)\n"
      ],
      "execution_count": 35,
      "outputs": [
        {
          "output_type": "stream",
          "text": [
            "1.15.0\n"
          ],
          "name": "stdout"
        }
      ]
    },
    {
      "cell_type": "code",
      "metadata": {
        "id": "t2rzkWy3H_vg",
        "colab_type": "code",
        "colab": {}
      },
      "source": [
        "(train_data, test_data), info = tfds.load(\n",
        "    # Use the version pre-encoded with an ~8k vocabulary.\n",
        "    'imdb_reviews/subwords8k', \n",
        "    # Return the train/test datasets as a tuple.\n",
        "    split = (tfds.Split.TRAIN, tfds.Split.TEST),\n",
        "    # Return (example, label) pairs from the dataset (instead of a dictionary).\n",
        "    as_supervised=True,\n",
        "    # Also return the `info` structure. \n",
        "    with_info=True)"
      ],
      "execution_count": 0,
      "outputs": []
    },
    {
      "cell_type": "code",
      "metadata": {
        "id": "ZXPf0J0yIzxy",
        "colab_type": "code",
        "colab": {}
      },
      "source": [
        "encoder = info.features['text'].encoder"
      ],
      "execution_count": 0,
      "outputs": []
    },
    {
      "cell_type": "code",
      "metadata": {
        "id": "9AKINlVUI7a4",
        "colab_type": "code",
        "colab": {
          "base_uri": "https://localhost:8080/",
          "height": 34
        },
        "outputId": "3fd20881-1d22-458a-8dfb-a84de25af9bd"
      },
      "source": [
        "print ('Vocabulary size: {}'.format(encoder.vocab_size))"
      ],
      "execution_count": 38,
      "outputs": [
        {
          "output_type": "stream",
          "text": [
            "Vocabulary size: 8185\n"
          ],
          "name": "stdout"
        }
      ]
    },
    {
      "cell_type": "code",
      "metadata": {
        "id": "Mg4qQ2S6Itge",
        "colab_type": "code",
        "colab": {
          "base_uri": "https://localhost:8080/",
          "height": 50
        },
        "outputId": "049585d3-e16f-4e17-8818-0bb9d073e4b5"
      },
      "source": [
        "for train_example, train_label in train_data.take(1):\n",
        "  print('Encoded text:', train_example[:10].numpy())\n",
        "  print('Label:', train_label.numpy())"
      ],
      "execution_count": 39,
      "outputs": [
        {
          "output_type": "stream",
          "text": [
            "Encoded text: [ 249    4  277  309  560    6 6639 4574    2   12]\n",
            "Label: 1\n"
          ],
          "name": "stdout"
        }
      ]
    },
    {
      "cell_type": "code",
      "metadata": {
        "id": "Qm3jJrzMKAkc",
        "colab_type": "code",
        "colab": {
          "base_uri": "https://localhost:8080/",
          "height": 54
        },
        "outputId": "7088ae35-755e-46b5-e3a8-06c2e3cccb15"
      },
      "source": [
        "encoder.decode(train_example)"
      ],
      "execution_count": 40,
      "outputs": [
        {
          "output_type": "execute_result",
          "data": {
            "text/plain": [
              "\"As a lifelong fan of Dickens, I have invariably been disappointed by adaptations of his novels.<br /><br />Although his works presented an extremely accurate re-telling of human life at every level in Victorian Britain, throughout them all was a pervasive thread of humour that could be both playful or sarcastic as the narrative dictated. In a way, he was a literary caricaturist and cartoonist. He could be serious and hilarious in the same sentence. He pricked pride, lampooned arrogance, celebrated modesty, and empathised with loneliness and poverty. It may be a cliché, but he was a people's writer.<br /><br />And it is the comedy that is so often missing from his interpretations. At the time of writing, Oliver Twist is being dramatised in serial form on BBC television. All of the misery and cruelty is their, but non of the humour, irony, and savage lampoonery. The result is just a dark, dismal experience: the story penned by a journalist rather than a novelist. It's not really Dickens at all.<br /><br />'Oliver!', on the other hand, is much closer to the mark. The mockery of officialdom is perfectly interpreted, from the blustering beadle to the drunken magistrate. The classic stand-off between the beadle and Mr Brownlow, in which the law is described as 'a ass, a idiot' couldn't have been better done. Harry Secombe is an ideal choice.<br /><br />But the blinding cruelty is also there, the callous indifference of the state, the cold, hunger, poverty and loneliness are all presented just as surely as The Master would have wished.<br /><br />And then there is crime. Ron Moody is a treasure as the sleazy Jewish fence, whilst Oliver Reid has Bill Sykes to perfection.<br /><br />Perhaps not surprisingly, Lionel Bart - himself a Jew from London's east-end - takes a liberty with Fagin by re-interpreting him as a much more benign fellow than was Dicken's original. In the novel, he was utterly ruthless, sending some of his own boys to the gallows in order to protect himself (though he was also caught and hanged). Whereas in the movie, he is presented as something of a wayward father-figure, a sort of charitable thief rather than a corrupter of children, the latter being a long-standing anti-semitic sentiment. Otherwise, very few liberties are taken with Dickens's original. All of the most memorable elements are included. Just enough menace and violence is retained to ensure narrative fidelity whilst at the same time allowing for children' sensibilities. Nancy is still beaten to death, Bullseye narrowly escapes drowning, and Bill Sykes gets a faithfully graphic come-uppance.<br /><br />Every song is excellent, though they do incline towards schmaltz. Mark Lester mimes his wonderfully. Both his and my favourite scene is the one in which the world comes alive to 'who will buy'. It's schmaltzy, but it's Dickens through and through.<br /><br />I could go on. I could commend the wonderful set-pieces, the contrast of the rich and poor. There is top-quality acting from more British regulars than you could shake a stick at.<br /><br />I ought to give it 10 points, but I'm feeling more like Scrooge today. Soak it up with your Christmas dinner. No original has been better realised.\""
            ]
          },
          "metadata": {
            "tags": []
          },
          "execution_count": 40
        }
      ]
    },
    {
      "cell_type": "code",
      "metadata": {
        "id": "SwQGsDOHKGG4",
        "colab_type": "code",
        "colab": {}
      },
      "source": [
        "BUFFER_SIZE = 1000\n",
        "\n",
        "train_batches = (\n",
        "    train_data\n",
        "    .shuffle(BUFFER_SIZE)\n",
        "    .padded_batch(32, train_data.output_shapes))\n",
        "\n",
        "test_batches = (\n",
        "    test_data\n",
        "    .padded_batch(32, train_data.output_shapes))"
      ],
      "execution_count": 0,
      "outputs": []
    },
    {
      "cell_type": "code",
      "metadata": {
        "id": "lkQK4A4iKKYz",
        "colab_type": "code",
        "colab": {
          "base_uri": "https://localhost:8080/",
          "height": 84
        },
        "outputId": "2a059fed-c4fe-4fef-d1e6-7e404f3bb276"
      },
      "source": [
        "for example_batch, label_batch in train_batches.take(2):\n",
        "  print(\"Batch shape:\", example_batch.shape)\n",
        "  print(\"label shape:\", label_batch.shape)\n",
        "  "
      ],
      "execution_count": 42,
      "outputs": [
        {
          "output_type": "stream",
          "text": [
            "Batch shape: (32, 951)\n",
            "label shape: (32,)\n",
            "Batch shape: (32, 748)\n",
            "label shape: (32,)\n"
          ],
          "name": "stdout"
        }
      ]
    },
    {
      "cell_type": "code",
      "metadata": {
        "id": "wVKxTUK1KNn1",
        "colab_type": "code",
        "colab": {
          "base_uri": "https://localhost:8080/",
          "height": 252
        },
        "outputId": "aa820009-7e30-49ed-bb31-4570d82a3bd0"
      },
      "source": [
        "model = keras.Sequential([\n",
        "  keras.layers.Embedding(encoder.vocab_size, 16),\n",
        "  keras.layers.GlobalAveragePooling1D(),\n",
        "  keras.layers.Dense(1, activation='relu')])\n",
        "\n",
        "model.summary()"
      ],
      "execution_count": 43,
      "outputs": [
        {
          "output_type": "stream",
          "text": [
            "Model: \"sequential_1\"\n",
            "_________________________________________________________________\n",
            "Layer (type)                 Output Shape              Param #   \n",
            "=================================================================\n",
            "embedding_1 (Embedding)      (None, None, 16)          130960    \n",
            "_________________________________________________________________\n",
            "global_average_pooling1d_1 ( (None, 16)                0         \n",
            "_________________________________________________________________\n",
            "dense_1 (Dense)              (None, 1)                 17        \n",
            "=================================================================\n",
            "Total params: 130,977\n",
            "Trainable params: 130,977\n",
            "Non-trainable params: 0\n",
            "_________________________________________________________________\n"
          ],
          "name": "stdout"
        }
      ]
    },
    {
      "cell_type": "code",
      "metadata": {
        "id": "iVyPWWwNKRr9",
        "colab_type": "code",
        "colab": {}
      },
      "source": [
        "model.compile(optimizer='adam',\n",
        "              loss='binary_crossentropy',\n",
        "              metrics=['accuracy'])"
      ],
      "execution_count": 0,
      "outputs": []
    },
    {
      "cell_type": "code",
      "metadata": {
        "id": "8S9JibitKU4S",
        "colab_type": "code",
        "colab": {
          "base_uri": "https://localhost:8080/",
          "height": 353
        },
        "outputId": "e33980aa-7ec7-4686-808d-f8c469d3d39a"
      },
      "source": [
        "history = model.fit(train_batches,\n",
        "                    epochs=10,\n",
        "                    validation_data=test_batches,\n",
        "                    validation_steps=30)"
      ],
      "execution_count": 45,
      "outputs": [
        {
          "output_type": "stream",
          "text": [
            "Epoch 1/10\n",
            "782/782 [==============================] - 13s 17ms/step - loss: 0.7325 - acc: 0.5750 - val_loss: 0.0000e+00 - val_acc: 0.0000e+00\n",
            "Epoch 2/10\n",
            "782/782 [==============================] - 10s 13ms/step - loss: 0.6405 - acc: 0.7741 - val_loss: 0.6173 - val_acc: 0.7969\n",
            "Epoch 3/10\n",
            "782/782 [==============================] - 10s 13ms/step - loss: 0.5587 - acc: 0.8098 - val_loss: 0.5307 - val_acc: 0.8292\n",
            "Epoch 4/10\n",
            "782/782 [==============================] - 10s 13ms/step - loss: 0.4752 - acc: 0.8460 - val_loss: 0.4871 - val_acc: 0.8479\n",
            "Epoch 5/10\n",
            "782/782 [==============================] - 10s 13ms/step - loss: 0.4118 - acc: 0.8696 - val_loss: 0.4485 - val_acc: 0.8604\n",
            "Epoch 6/10\n",
            "782/782 [==============================] - 10s 12ms/step - loss: 0.3649 - acc: 0.8824 - val_loss: 0.4216 - val_acc: 0.8656\n",
            "Epoch 7/10\n",
            "782/782 [==============================] - 10s 12ms/step - loss: 0.3328 - acc: 0.8894 - val_loss: 0.3975 - val_acc: 0.8771\n",
            "Epoch 8/10\n",
            "782/782 [==============================] - 10s 13ms/step - loss: 0.3023 - acc: 0.9002 - val_loss: 0.3909 - val_acc: 0.8802\n",
            "Epoch 9/10\n",
            "782/782 [==============================] - 10s 13ms/step - loss: 0.2828 - acc: 0.9050 - val_loss: 0.3883 - val_acc: 0.8792\n",
            "Epoch 10/10\n",
            "782/782 [==============================] - 10s 12ms/step - loss: 0.2617 - acc: 0.9105 - val_loss: 0.3868 - val_acc: 0.8813\n"
          ],
          "name": "stdout"
        }
      ]
    },
    {
      "cell_type": "code",
      "metadata": {
        "id": "x-bnBjOhKY_m",
        "colab_type": "code",
        "colab": {
          "base_uri": "https://localhost:8080/",
          "height": 67
        },
        "outputId": "23521edc-8594-4fd8-cc4c-32b3df712d78"
      },
      "source": [
        "loss, accuracy = model.evaluate(test_batches)\n",
        "\n",
        "print(\"Loss: \", loss)\n",
        "print(\"Accuracy: \", accuracy)"
      ],
      "execution_count": 46,
      "outputs": [
        {
          "output_type": "stream",
          "text": [
            "782/782 [==============================] - 7s 9ms/step - loss: 0.4294 - acc: 0.8801\n",
            "Loss:  0.4294352694926664\n",
            "Accuracy:  0.88012\n"
          ],
          "name": "stdout"
        }
      ]
    },
    {
      "cell_type": "code",
      "metadata": {
        "id": "nyzxtUWIKm0S",
        "colab_type": "code",
        "colab": {
          "base_uri": "https://localhost:8080/",
          "height": 34
        },
        "outputId": "fa390442-d318-4479-e511-13aa4c36e3db"
      },
      "source": [
        "history_dict = history.history\n",
        "history_dict.keys()"
      ],
      "execution_count": 47,
      "outputs": [
        {
          "output_type": "execute_result",
          "data": {
            "text/plain": [
              "dict_keys(['loss', 'acc', 'val_loss', 'val_acc'])"
            ]
          },
          "metadata": {
            "tags": []
          },
          "execution_count": 47
        }
      ]
    },
    {
      "cell_type": "markdown",
      "metadata": {
        "id": "sS6vvzqOMQ4I",
        "colab_type": "text"
      },
      "source": [
        "Gráficas"
      ]
    },
    {
      "cell_type": "code",
      "metadata": {
        "id": "zWsG0fVaKq8g",
        "colab_type": "code",
        "colab": {
          "base_uri": "https://localhost:8080/",
          "height": 295
        },
        "outputId": "c9e81858-3f24-4007-f264-ae3025e33c04"
      },
      "source": [
        "import matplotlib.pyplot as plt\n",
        "\n",
        "acc = history_dict['acc']\n",
        "val_acc = history_dict['val_acc']\n",
        "loss = history_dict['loss']\n",
        "val_loss = history_dict['val_loss']\n",
        "\n",
        "epochs = range(1, len(acc) + 1)\n",
        "\n",
        "plt.plot(epochs, loss, 'ro', label='Training loss')\n",
        "plt.plot(epochs, val_loss, 'b', label='Validation loss')\n",
        "plt.title('Training and validation loss')\n",
        "plt.xlabel('Epochs')\n",
        "plt.ylabel('Loss')\n",
        "plt.legend()\n",
        "\n",
        "plt.show()"
      ],
      "execution_count": 48,
      "outputs": [
        {
          "output_type": "display_data",
          "data": {
            "image/png": "[encoded data removed]",
            "text/plain": [
              "<Figure size 432x288 with 1 Axes>"
            ]
          },
          "metadata": {
            "tags": []
          }
        }
      ]
    },
    {
      "cell_type": "code",
      "metadata": {
        "id": "ozHMzHF_LBLw",
        "colab_type": "code",
        "colab": {
          "base_uri": "https://localhost:8080/",
          "height": 295
        },
        "outputId": "6fbae230-51e4-4f56-ab15-14a8c6648ef5"
      },
      "source": [
        "plt.clf()   # clear figure\n",
        "\n",
        "plt.plot(epochs, acc, 'ro', label='Training acc')\n",
        "plt.plot(epochs, val_acc, 'b', label='Validation acc')\n",
        "plt.title('Training and validation accuracy')\n",
        "plt.xlabel('Epochs')\n",
        "plt.ylabel('Accuracy')\n",
        "plt.legend(loc='lower right')\n",
        "\n",
        "plt.show()"
      ],
      "execution_count": 49,
      "outputs": [
        {
          "output_type": "display_data",
          "data": {
            "image/png": "[encoded data removed]",
            "text/plain": [
              "<Figure size 432x288 with 1 Axes>"
            ]
          },
          "metadata": {
            "tags": []
          }
        }
      ]
    },
    {
      "cell_type": "markdown",
      "metadata": {
        "id": "AeyXMYgIL774",
        "colab_type": "text"
      },
      "source": [
        "Testing"
      ]
    },
    {
      "cell_type": "code",
      "metadata": {
        "id": "XwH8rzxTLlEp",
        "colab_type": "code",
        "colab": {
          "base_uri": "https://localhost:8080/",
          "height": 1000
        },
        "outputId": "22fbd50f-eec7-48dc-ab41-bdfc1da9b443"
      },
      "source": [
        "for train_example, train_label in train_data.take(50):\n",
        "  print('Encoded text:', train_example[:10].numpy())\n",
        "  print('Label:', train_label.numpy())"
      ],
      "execution_count": 50,
      "outputs": [
        {
          "output_type": "stream",
          "text": [
            "Encoded text: [ 249    4  277  309  560    6 6639 4574    2   12]\n",
            "Label: 1\n",
            "Encoded text: [2080 4956   90 7174    4 4669  190   25  162   15]\n",
            "Label: 1\n",
            "Encoded text: [  12  284   14   32   25 1975   49 7079   28   73]\n",
            "Label: 1\n",
            "Encoded text: [  62   18    4 4518 2920    5  966   27   13   12]\n",
            "Label: 1\n",
            "Encoded text: [  12   31   84  480   71    1  108 7748    9 1130]\n",
            "Label: 1\n",
            "Encoded text: [  62   18 3948 7974 6048  100   90   12  258   41]\n",
            "Label: 1\n",
            "Encoded text: [768  99 416   9 733   1 626   6 467 159]\n",
            "Label: 0\n",
            "Encoded text: [  12  604 1694 4406  797   14   27   72   12   18]\n",
            "Label: 1\n",
            "Encoded text: [ 133   67 1011    5 5225 7961 1482 2252  755    6]\n",
            "Label: 1\n",
            "Encoded text: [  62    9    1  107 5827 7961   32   12   31  160]\n",
            "Label: 0\n",
            "Encoded text: [  12  704  646    7   14   66    3   12  207 7968]\n",
            "Label: 0\n",
            "Encoded text: [2016  481  105  186  202   14   99  131  174 1331]\n",
            "Label: 1\n",
            "Encoded text: [5614 2785  266 4000 2979  102  707 3072 7961   20]\n",
            "Label: 1\n",
            "Encoded text: [3852 3121 7626 8026 7968    8 3855 2979  352 2052]\n",
            "Label: 1\n",
            "Encoded text: [  12 1167 7968   21  165   14   32   11  255   55]\n",
            "Label: 1\n",
            "Encoded text: [1324 7692 7961  267    7  163    1 4114  395 2823]\n",
            "Label: 0\n",
            "Encoded text: [ 173   29  143  121   11  331  919   13  103 1840]\n",
            "Label: 1\n",
            "Encoded text: [ 12 129  13   1 480   6   1 184   9 722]\n",
            "Label: 1\n",
            "Encoded text: [6313    4  560    6 3524  365    2   12  882 1641]\n",
            "Label: 0\n",
            "Encoded text: [4097 7961 4706  351  383    4 1131 7961  172   46]\n",
            "Label: 1\n",
            "Encoded text: [2130  139    4 2256 5897  458 7383   49 1123    5]\n",
            "Label: 0\n",
            "Encoded text: [  14    9   82  118 1760   25 7081    2  131  196]\n",
            "Label: 1\n",
            "Encoded text: [3791  905    4 5965 7961    9    4  624  646 2660]\n",
            "Label: 1\n",
            "Encoded text: [ 62  81  18   1 349  27  12  31 160 550]\n",
            "Label: 0\n",
            "Encoded text: [3727   82 1812   50 4647  395 2029   63  101 1449]\n",
            "Label: 1\n",
            "Encoded text: [5320  601  330 7651    2   12   80    4 1258    7]\n",
            "Label: 1\n",
            "Encoded text: [2895  380  611 2186  954 1276    2    5 2186  954]\n",
            "Label: 0\n",
            "Encoded text: [ 298  662    2   12  574    7  803   38   19 3536]\n",
            "Label: 0\n",
            "Encoded text: [4027   12 2841  181   38 2177  453   54 2059  481]\n",
            "Label: 0\n",
            "Encoded text: [ 173    9   84  141    7 2634    4 3940 7961  256]\n",
            "Label: 0\n",
            "Encoded text: [  62   27    9 4644   34    7  406   46    9   50]\n",
            "Label: 1\n",
            "Encoded text: [2074 3705  154  533 1654    7    4 5993   11   25]\n",
            "Label: 0\n",
            "Encoded text: [  12  258    4 1082 7509 5648  560    5   55   72]\n",
            "Label: 1\n",
            "Encoded text: [ 274    1 7999 7971 7993 7964 7961   18   14   12]\n",
            "Label: 0\n",
            "Encoded text: [4555 7961  155 2715 2792 4574  450   11 1083    2]\n",
            "Label: 0\n",
            "Encoded text: [  12 4752 6886  154 2482    8 1805 3949 3969    2]\n",
            "Label: 1\n",
            "Encoded text: [  12   18  218   14   27   25 7519 7973 1759  127]\n",
            "Label: 1\n",
            "Encoded text: [  62   27   57   63  276   13   29  244 2266    3]\n",
            "Label: 1\n",
            "Encoded text: [4058 4068 1639 7961 3128 7968   21  984   93 6219]\n",
            "Label: 1\n",
            "Encoded text: [4878 7969 3021  553 3583  310 5945 8039   58   57]\n",
            "Label: 1\n",
            "Encoded text: [2960 1483 1360   33 2448   14  369    4 7875    2]\n",
            "Label: 1\n",
            "Encoded text: [ 274   83   12  664 6642 1284  328    5 4105 2766]\n",
            "Label: 1\n",
            "Encoded text: [ 597  218   14   27   12   18 6417 6476   36    5]\n",
            "Label: 1\n",
            "Encoded text: [1976  676    3   12  574   22 1150  712    7    4]\n",
            "Label: 1\n",
            "Encoded text: [  12  284    1  787   38 3712 1245    8 2535 8030]\n",
            "Label: 0\n",
            "Encoded text: [  62   18    4   67 1779   66    3  133 4837    2]\n",
            "Label: 1\n",
            "Encoded text: [1455 4491  231   50 1455 2093 1865 7961    9    4]\n",
            "Label: 1\n",
            "Encoded text: [3727    1 1077 2603 7961    6 3422 6353    2  121]\n",
            "Label: 1\n",
            "Encoded text: [  62    9  569    6 1117 5747    2   55  368 5008]\n",
            "Label: 1\n",
            "Encoded text: [  62   32   81  245  177    7    4  122 1680    3]\n",
            "Label: 0\n"
          ],
          "name": "stdout"
        }
      ]
    },
    {
      "cell_type": "code",
      "metadata": {
        "id": "2WXjbqjlL6U3",
        "colab_type": "code",
        "colab": {
          "base_uri": "https://localhost:8080/",
          "height": 54
        },
        "outputId": "2720feb6-eb54-429b-bd5d-5205fc7396b4"
      },
      "source": [
        "encoder.decode(train_example)"
      ],
      "execution_count": 51,
      "outputs": [
        {
          "output_type": "execute_result",
          "data": {
            "text/plain": [
              "'This film really got off to a great start. It had the potential to turn into a really heartrending, romantic love story with cinematography that recorded the love between \"Harlan\" and Tobe in long, poetic and idyllic scenes. It really didn\\'t need to be anything more than that, and for a moment there I became excited that someone was finally making a beautiful film for its own sake, another timeless classic, a modern myth perhaps. Why, oh why, then mess it up halfway through by making the lead character (Norton)another psycho? Maybe I\\'m missing the point, but do we really need another film about psychos? Or is this need in Hollywood to portray the sick side of human nature indicative of a more general malaise in the movie industry? For a moment there, I was going to make a mental note of the director\\'s name; now I\\'m left feeling indifferent. At least it should be added in the film\\'s defense that all the actors seemed to invest in their roles. Also, Evan Rachel Wood is really lovely to look at and a good actress with lots of potential.'"
            ]
          },
          "metadata": {
            "tags": []
          },
          "execution_count": 51
        }
      ]
    }
  ]
}